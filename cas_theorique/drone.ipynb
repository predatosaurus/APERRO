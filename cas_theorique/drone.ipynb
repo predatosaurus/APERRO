{
 "cells": [
  {
   "cell_type": "code",
   "execution_count": 1,
   "id": "a83c2c54",
   "metadata": {},
   "outputs": [],
   "source": [
    "import numpy as np\n",
    "import scipy as sp\n",
    "import pandas as pd"
   ]
  },
  {
   "cell_type": "code",
   "execution_count": 12,
   "id": "3ade6b74",
   "metadata": {},
   "outputs": [],
   "source": [
    "nodes = ['A', 'B', 'C', 'D', 'E', 'F']\n",
    "pair = [('A', 'B', 3),\n",
    "        ('B', 'D', 1),\n",
    "        ('B', 'F', 1),\n",
    "        ('A', 'E', 1),\n",
    "        ('E', 'C', 1),\n",
    "        ('C', 'A', 1)]"
   ]
  },
  {
   "cell_type": "code",
   "execution_count": 22,
   "id": "44d51972",
   "metadata": {},
   "outputs": [
    {
     "data": {
      "image/png": "[encoded data removed]",
      "text/plain": [
       "<Figure size 432x288 with 1 Axes>"
      ]
     },
     "metadata": {},
     "output_type": "display_data"
    }
   ],
   "source": [
    "import networkx as nx\n",
    "import matplotlib.pyplot as plt\n",
    "\n",
    "G = nx.Graph(strict=True, directed=False)\n",
    "\n",
    "G.add_nodes_from(nodes)\n",
    "\n",
    "for edge in pair:\n",
    "    x, y, w = edge\n",
    "    G.add_edges_from([(x, y)], weight=w)\n",
    "\n",
    "edge_labels = dict([((u,v,),d['weight'])\n",
    "                  for u,v,d in G.edges(data=True)])\n",
    "\n",
    "pos = nx.spring_layout(G)\n",
    "nx.draw_networkx_edge_labels(G, pos, edge_labels=edge_labels)\n",
    "nx.draw(G, pos, with_labels=True)\n",
    "\n",
    "plt.savefig(\"drone_graph.png\")\n",
    "plt.draw()\n",
    "plt.show()"
   ]
  },
  {
   "cell_type": "code",
   "execution_count": null,
   "id": "1339e0cd",
   "metadata": {},
   "outputs": [],
   "source": []
  }
 ],
 "metadata": {
  "kernelspec": {
   "display_name": "Python 3 (ipykernel)",
   "language": "python",
   "name": "python3"
  },
  "language_info": {
   "codemirror_mode": {
    "name": "ipython",
    "version": 3
   },
   "file_extension": ".py",
   "mimetype": "text/x-python",
   "name": "python",
   "nbconvert_exporter": "python",
   "pygments_lexer": "ipython3",
   "version": "3.8.10"
  }
 },
 "nbformat": 4,
 "nbformat_minor": 5
}
