{
 "cells": [
  {
   "cell_type": "markdown",
   "id": "fb161d62",
   "metadata": {},
   "source": [
    "## PARTIE: deneigeuse ##"
   ]
  },
  {
   "cell_type": "markdown",
   "id": "4d03b51d",
   "metadata": {},
   "source": [
    "Graphe non orienté"
   ]
  },
  {
   "cell_type": "code",
   "execution_count": 6,
   "id": "9c7a184c",
   "metadata": {},
   "outputs": [],
   "source": [
    "import numpy as np\n",
    "import scipy as sp\n",
    "import pandas as pd"
   ]
  },
  {
   "cell_type": "code",
   "execution_count": 120,
   "id": "8c54bbf3",
   "metadata": {},
   "outputs": [],
   "source": [
    "nodes = ['A', 'B', 'C', 'D', 'E', 'F']\n",
    "pairs = [('A', 'B', 3),\n",
    "        ('B', 'A', 3),\n",
    "        ('B', 'D', 1),\n",
    "        ('D', 'B', 4),\n",
    "        ('B', 'F', 5),\n",
    "        ('F', 'B', 5),\n",
    "        ('C', 'A', 8),\n",
    "        ('A', 'E', 6),\n",
    "        ('E', 'C', 8)]"
   ]
  },
  {
   "cell_type": "code",
   "execution_count": 121,
   "id": "4107cf1b",
   "metadata": {},
   "outputs": [
    {
     "data": {
      "image/png": "[encoded data removed]",
      "text/plain": [
       "<Figure size 432x288 with 1 Axes>"
      ]
     },
     "metadata": {},
     "output_type": "display_data"
    }
   ],
   "source": [
    "import networkx as nx\n",
    "import matplotlib.pyplot as plt\n",
    "\n",
    "G = nx.DiGraph(strict=True, directed=False)\n",
    "\n",
    "G.add_nodes_from(nodes)\n",
    "\n",
    "for edge in pairs:\n",
    "    x, y, w = edge\n",
    "    G.add_edges_from([(x, y)], weight=w)\n",
    "\n",
    "edge_labels = dict([((u,v,),d['weight'])\n",
    "                  for u,v,d in G.edges(data=True)])\n",
    "\n",
    "pos = nx.spring_layout(G)\n",
    "nx.draw_networkx_edge_labels(G, pos, edge_labels=edge_labels)\n",
    "nx.draw(G, pos, with_labels=True)\n",
    "\n",
    "plt.savefig(\"deneigeuse_graph.png\")\n",
    "plt.draw()\n",
    "plt.show()\n"
   ]
  },
  {
   "cell_type": "code",
   "execution_count": 157,
   "id": "7eadd0a9",
   "metadata": {},
   "outputs": [
    {
     "name": "stdout",
     "output_type": "stream",
     "text": [
      "A--3->B\n",
      "A--6->E\n",
      "B--3->A\n",
      "B--1->D\n",
      "B--5->F\n",
      "C--8->A\n",
      "D--4->B\n",
      "E--8->C\n",
      "F--5->B\n",
      "[[(1, 3), (4, 6)], [(0, 3), (3, 1), (5, 5)], [(0, 8)], [(1, 4)], [(2, 8)], [(1, 5)]]\n"
     ]
    },
    {
     "ename": "ValueError",
     "evalue": "not enough values to unpack (expected 3, got 2)",
     "output_type": "error",
     "traceback": [
      "\u001b[0;31m---------------------------------------------------------------------------\u001b[0m",
      "\u001b[0;31mValueError\u001b[0m                                Traceback (most recent call last)",
      "Input \u001b[0;32mIn [157]\u001b[0m, in \u001b[0;36m<cell line: 71>\u001b[0;34m()\u001b[0m\n\u001b[1;32m     69\u001b[0m g \u001b[38;5;241m=\u001b[39m Graph(nodes, pairs)\n\u001b[1;32m     70\u001b[0m g\u001b[38;5;241m.\u001b[39mGraphPrint()\n\u001b[0;32m---> 71\u001b[0m \u001b[38;5;28mprint\u001b[39m(\u001b[43mg\u001b[49m\u001b[38;5;241;43m.\u001b[39;49m\u001b[43mis_eulerian\u001b[49m\u001b[43m(\u001b[49m\u001b[43m)\u001b[49m)\n",
      "Input \u001b[0;32mIn [157]\u001b[0m, in \u001b[0;36mGraph.is_eulerian\u001b[0;34m(self)\u001b[0m\n\u001b[1;32m     65\u001b[0m \u001b[38;5;28;01mdef\u001b[39;00m \u001b[38;5;21mis_eulerian\u001b[39m(\u001b[38;5;28mself\u001b[39m):\n\u001b[0;32m---> 66\u001b[0m     \u001b[38;5;28;01mreturn\u001b[39;00m \u001b[43mis_edge_connected\u001b[49m\u001b[43m(\u001b[49m\u001b[38;5;28;43mself\u001b[39;49m\u001b[38;5;241;43m.\u001b[39;49m\u001b[43mn\u001b[49m\u001b[43m,\u001b[49m\u001b[43m \u001b[49m\u001b[38;5;28;43mself\u001b[39;49m\u001b[38;5;241;43m.\u001b[39;49m\u001b[43mgraph\u001b[49m\u001b[43m)\u001b[49m \u001b[38;5;129;01mand\u001b[39;00m \u001b[38;5;129;01mnot\u001b[39;00m odd_vertices(\u001b[38;5;28mself\u001b[39m\u001b[38;5;241m.\u001b[39mn, \u001b[38;5;28mself\u001b[39m\u001b[38;5;241m.\u001b[39mgraph)\n",
      "Input \u001b[0;32mIn [157]\u001b[0m, in \u001b[0;36mis_edge_connected\u001b[0;34m(n, edges)\u001b[0m\n\u001b[1;32m     17\u001b[0m \u001b[38;5;66;03m# Convert to adjacency list\u001b[39;00m\n\u001b[1;32m     18\u001b[0m succ \u001b[38;5;241m=\u001b[39m [[] \u001b[38;5;28;01mfor\u001b[39;00m a \u001b[38;5;129;01min\u001b[39;00m \u001b[38;5;28mrange\u001b[39m(n)]\n\u001b[0;32m---> 19\u001b[0m \u001b[38;5;28;01mfor\u001b[39;00m (a,b,w) \u001b[38;5;129;01min\u001b[39;00m edges:\n\u001b[1;32m     20\u001b[0m     succ[a]\u001b[38;5;241m.\u001b[39mappend(b)\n\u001b[1;32m     21\u001b[0m     succ[b]\u001b[38;5;241m.\u001b[39mappend(a)\n",
      "\u001b[0;31mValueError\u001b[0m: not enough values to unpack (expected 3, got 2)"
     ]
    }
   ],
   "source": [
    "def find(l, f):\n",
    "    for i in range(len(l)):\n",
    "        if (l[i][\"name\"] == f):\n",
    "            return l[i][\"index\"]\n",
    "    return None\n",
    "\n",
    "def odd_vertices(n, edges):\n",
    "    deg = [0] * n\n",
    "    for (a, b, w) in edges:\n",
    "        deg[a] += 1\n",
    "        deg[b] += 1\n",
    "    return [a for a in range(n) if deg[a] % 2]\n",
    "\n",
    "def is_edge_connected(n, edges):\n",
    "    if n == 0 or len(edges) == 0:\n",
    "        return True\n",
    "    # Convert to adjacency list\n",
    "    succ = [[] for a in range(n)]\n",
    "    for (a,b,w) in edges:\n",
    "        succ[a].append(b)\n",
    "        succ[b].append(a)\n",
    "    # BFS over the graph, starting from one extremity of the first edge\n",
    "    touched = [False] * n\n",
    "    init = edges[0][0]\n",
    "    touched[init] = True\n",
    "    todo = [init]\n",
    "    while todo:\n",
    "        s = todo.pop()\n",
    "        for d in succ[s]:\n",
    "            if touched[d]:\n",
    "                continue\n",
    "            touched[d] = True\n",
    "            todo.append(d)\n",
    "    for a in range(n):\n",
    "        if succ[a] and not touched[a]:\n",
    "            return False\n",
    "    return True\n",
    "\n",
    "class Graph:\n",
    "    def __init__(self, nodes=[], pairs=[], directed=True):\n",
    "        self.nodes = nodes\n",
    "        self.n = len(nodes)\n",
    "        self.pairs = pairs\n",
    "        self.graph = [[] for i in range(self.n)]\n",
    "        self.node_name = []\n",
    "        self.edge = []\n",
    "        \n",
    "        #\n",
    "        for i in range(len(self.nodes)):\n",
    "            self.node_name.append({\"index\" : i, \"name\": self.nodes[i]})\n",
    "        \n",
    "        #\n",
    "        for e in self.pairs:\n",
    "            x,y = e\n",
    "            self.edge.append()\n",
    "        #\n",
    "        for edge in pairs:\n",
    "            x,y,w = edge\n",
    "            xi,yi = find(self.node_name, x),find(self.node_name, y)\n",
    "            self.graph[xi].append((yi, w))\n",
    "            if (not directed):\n",
    "                self.graph[yi].append((xi, w))\n",
    "            \n",
    "    \n",
    "    def GraphPrint(self):\n",
    "        for x in range (len(self.graph)):\n",
    "            for p in self.graph[x]:\n",
    "                y,w = p\n",
    "                print(str(self.node_name[x][\"name\"]) + \n",
    "                      \"--\" + str(w) + \"->\" + \n",
    "                      str(self.node_name[y][\"name\"]))\n",
    "        print(self.graph)\n",
    "\n",
    "    def is_eulerian(self):\n",
    "        return is_edge_connected(self.n, self.graph) and not odd_vertices(self.n, self.graph)\n",
    "                \n",
    "\n",
    "g = Graph(nodes, pairs)\n",
    "g.GraphPrint()\n",
    "print(g.is_eulerian())"
   ]
  },
  {
   "cell_type": "code",
   "execution_count": null,
   "id": "bd8a543a",
   "metadata": {},
   "outputs": [],
   "source": []
  }
 ],
 "metadata": {
  "kernelspec": {
   "display_name": "Python 3 (ipykernel)",
   "language": "python",
   "name": "python3"
  },
  "language_info": {
   "codemirror_mode": {
    "name": "ipython",
    "version": 3
   },
   "file_extension": ".py",
   "mimetype": "text/x-python",
   "name": "python",
   "nbconvert_exporter": "python",
   "pygments_lexer": "ipython3",
   "version": "3.8.10"
  }
 },
 "nbformat": 4,
 "nbformat_minor": 5
}
